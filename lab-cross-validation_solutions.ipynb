{
 "cells": [
  {
   "cell_type": "markdown",
   "id": "46eb3032",
   "metadata": {},
   "source": [
    "## Lab | Cross Validation"
   ]
  },
  {
   "cell_type": "markdown",
   "id": "c5f1c051",
   "metadata": {},
   "source": [
    "**Scenario**\n",
    "\n",
    "For this lab, we will build a model on customer churn binary classification problem. You will be using files_for_lab/Customer-Churn.csv file."
   ]
  },
  {
   "cell_type": "code",
   "execution_count": 74,
   "id": "3f5a5b69",
   "metadata": {},
   "outputs": [],
   "source": [
    "import pandas as pd\n",
    "import numpy as np\n",
    "import warnings\n",
    "warnings.filterwarnings(\"ignore\")\n",
    "\n",
    "from imblearn.over_sampling import SMOTE\n",
    "from imblearn.under_sampling import TomekLinks\n",
    "from sklearn.model_selection import train_test_split\n",
    "from sklearn.linear_model import LogisticRegression\n",
    "from sklearn.tree import DecisionTreeClassifier\n",
    "from sklearn.metrics import classification_report\n",
    "from sklearn.model_selection import cross_val_score "
   ]
  },
  {
   "cell_type": "code",
   "execution_count": 75,
   "id": "8cd460d4",
   "metadata": {},
   "outputs": [
    {
     "data": {
      "text/html": [
       "<div>\n",
       "<style scoped>\n",
       "    .dataframe tbody tr th:only-of-type {\n",
       "        vertical-align: middle;\n",
       "    }\n",
       "\n",
       "    .dataframe tbody tr th {\n",
       "        vertical-align: top;\n",
       "    }\n",
       "\n",
       "    .dataframe thead th {\n",
       "        text-align: right;\n",
       "    }\n",
       "</style>\n",
       "<table border=\"1\" class=\"dataframe\">\n",
       "  <thead>\n",
       "    <tr style=\"text-align: right;\">\n",
       "      <th></th>\n",
       "      <th>gender</th>\n",
       "      <th>SeniorCitizen</th>\n",
       "      <th>Partner</th>\n",
       "      <th>Dependents</th>\n",
       "      <th>tenure</th>\n",
       "      <th>PhoneService</th>\n",
       "      <th>OnlineSecurity</th>\n",
       "      <th>OnlineBackup</th>\n",
       "      <th>DeviceProtection</th>\n",
       "      <th>TechSupport</th>\n",
       "      <th>StreamingTV</th>\n",
       "      <th>StreamingMovies</th>\n",
       "      <th>Contract</th>\n",
       "      <th>MonthlyCharges</th>\n",
       "      <th>TotalCharges</th>\n",
       "      <th>Churn</th>\n",
       "    </tr>\n",
       "  </thead>\n",
       "  <tbody>\n",
       "    <tr>\n",
       "      <th>0</th>\n",
       "      <td>Female</td>\n",
       "      <td>0</td>\n",
       "      <td>Yes</td>\n",
       "      <td>No</td>\n",
       "      <td>1</td>\n",
       "      <td>No</td>\n",
       "      <td>No</td>\n",
       "      <td>Yes</td>\n",
       "      <td>No</td>\n",
       "      <td>No</td>\n",
       "      <td>No</td>\n",
       "      <td>No</td>\n",
       "      <td>Month-to-month</td>\n",
       "      <td>29.85</td>\n",
       "      <td>29.85</td>\n",
       "      <td>No</td>\n",
       "    </tr>\n",
       "    <tr>\n",
       "      <th>1</th>\n",
       "      <td>Male</td>\n",
       "      <td>0</td>\n",
       "      <td>No</td>\n",
       "      <td>No</td>\n",
       "      <td>34</td>\n",
       "      <td>Yes</td>\n",
       "      <td>Yes</td>\n",
       "      <td>No</td>\n",
       "      <td>Yes</td>\n",
       "      <td>No</td>\n",
       "      <td>No</td>\n",
       "      <td>No</td>\n",
       "      <td>One year</td>\n",
       "      <td>56.95</td>\n",
       "      <td>1889.5</td>\n",
       "      <td>No</td>\n",
       "    </tr>\n",
       "    <tr>\n",
       "      <th>2</th>\n",
       "      <td>Male</td>\n",
       "      <td>0</td>\n",
       "      <td>No</td>\n",
       "      <td>No</td>\n",
       "      <td>2</td>\n",
       "      <td>Yes</td>\n",
       "      <td>Yes</td>\n",
       "      <td>Yes</td>\n",
       "      <td>No</td>\n",
       "      <td>No</td>\n",
       "      <td>No</td>\n",
       "      <td>No</td>\n",
       "      <td>Month-to-month</td>\n",
       "      <td>53.85</td>\n",
       "      <td>108.15</td>\n",
       "      <td>Yes</td>\n",
       "    </tr>\n",
       "    <tr>\n",
       "      <th>3</th>\n",
       "      <td>Male</td>\n",
       "      <td>0</td>\n",
       "      <td>No</td>\n",
       "      <td>No</td>\n",
       "      <td>45</td>\n",
       "      <td>No</td>\n",
       "      <td>Yes</td>\n",
       "      <td>No</td>\n",
       "      <td>Yes</td>\n",
       "      <td>Yes</td>\n",
       "      <td>No</td>\n",
       "      <td>No</td>\n",
       "      <td>One year</td>\n",
       "      <td>42.30</td>\n",
       "      <td>1840.75</td>\n",
       "      <td>No</td>\n",
       "    </tr>\n",
       "    <tr>\n",
       "      <th>4</th>\n",
       "      <td>Female</td>\n",
       "      <td>0</td>\n",
       "      <td>No</td>\n",
       "      <td>No</td>\n",
       "      <td>2</td>\n",
       "      <td>Yes</td>\n",
       "      <td>No</td>\n",
       "      <td>No</td>\n",
       "      <td>No</td>\n",
       "      <td>No</td>\n",
       "      <td>No</td>\n",
       "      <td>No</td>\n",
       "      <td>Month-to-month</td>\n",
       "      <td>70.70</td>\n",
       "      <td>151.65</td>\n",
       "      <td>Yes</td>\n",
       "    </tr>\n",
       "  </tbody>\n",
       "</table>\n",
       "</div>"
      ],
      "text/plain": [
       "   gender  SeniorCitizen Partner Dependents  tenure PhoneService  \\\n",
       "0  Female              0     Yes         No       1           No   \n",
       "1    Male              0      No         No      34          Yes   \n",
       "2    Male              0      No         No       2          Yes   \n",
       "3    Male              0      No         No      45           No   \n",
       "4  Female              0      No         No       2          Yes   \n",
       "\n",
       "  OnlineSecurity OnlineBackup DeviceProtection TechSupport StreamingTV  \\\n",
       "0             No          Yes               No          No          No   \n",
       "1            Yes           No              Yes          No          No   \n",
       "2            Yes          Yes               No          No          No   \n",
       "3            Yes           No              Yes         Yes          No   \n",
       "4             No           No               No          No          No   \n",
       "\n",
       "  StreamingMovies        Contract  MonthlyCharges TotalCharges Churn  \n",
       "0              No  Month-to-month           29.85        29.85    No  \n",
       "1              No        One year           56.95       1889.5    No  \n",
       "2              No  Month-to-month           53.85       108.15   Yes  \n",
       "3              No        One year           42.30      1840.75    No  \n",
       "4              No  Month-to-month           70.70       151.65   Yes  "
      ]
     },
     "execution_count": 75,
     "metadata": {},
     "output_type": "execute_result"
    }
   ],
   "source": [
    "churnData = pd.read_csv(\"Customer-Churn.csv\")\n",
    "churnData.head()"
   ]
  },
  {
   "cell_type": "code",
   "execution_count": 76,
   "id": "b1be5e22",
   "metadata": {},
   "outputs": [
    {
     "data": {
      "text/plain": [
       "(7043, 16)"
      ]
     },
     "execution_count": 76,
     "metadata": {},
     "output_type": "execute_result"
    }
   ],
   "source": [
    "churnData.shape"
   ]
  },
  {
   "cell_type": "code",
   "execution_count": 77,
   "id": "91f7e922",
   "metadata": {},
   "outputs": [
    {
     "name": "stdout",
     "output_type": "stream",
     "text": [
      "<class 'pandas.core.frame.DataFrame'>\n",
      "RangeIndex: 7043 entries, 0 to 7042\n",
      "Data columns (total 16 columns):\n",
      " #   Column            Non-Null Count  Dtype  \n",
      "---  ------            --------------  -----  \n",
      " 0   gender            7043 non-null   object \n",
      " 1   SeniorCitizen     7043 non-null   int64  \n",
      " 2   Partner           7043 non-null   object \n",
      " 3   Dependents        7043 non-null   object \n",
      " 4   tenure            7043 non-null   int64  \n",
      " 5   PhoneService      7043 non-null   object \n",
      " 6   OnlineSecurity    7043 non-null   object \n",
      " 7   OnlineBackup      7043 non-null   object \n",
      " 8   DeviceProtection  7043 non-null   object \n",
      " 9   TechSupport       7043 non-null   object \n",
      " 10  StreamingTV       7043 non-null   object \n",
      " 11  StreamingMovies   7043 non-null   object \n",
      " 12  Contract          7043 non-null   object \n",
      " 13  MonthlyCharges    7043 non-null   float64\n",
      " 14  TotalCharges      7043 non-null   object \n",
      " 15  Churn             7043 non-null   object \n",
      "dtypes: float64(1), int64(2), object(13)\n",
      "memory usage: 880.5+ KB\n"
     ]
    }
   ],
   "source": [
    "churnData.info()"
   ]
  },
  {
   "cell_type": "code",
   "execution_count": 78,
   "id": "ff5a7b80",
   "metadata": {},
   "outputs": [
    {
     "data": {
      "text/plain": [
       "gender              0\n",
       "SeniorCitizen       0\n",
       "Partner             0\n",
       "Dependents          0\n",
       "tenure              0\n",
       "PhoneService        0\n",
       "OnlineSecurity      0\n",
       "OnlineBackup        0\n",
       "DeviceProtection    0\n",
       "TechSupport         0\n",
       "StreamingTV         0\n",
       "StreamingMovies     0\n",
       "Contract            0\n",
       "MonthlyCharges      0\n",
       "TotalCharges        0\n",
       "Churn               0\n",
       "dtype: int64"
      ]
     },
     "execution_count": 78,
     "metadata": {},
     "output_type": "execute_result"
    }
   ],
   "source": [
    "churnData.isna().sum()"
   ]
  },
  {
   "cell_type": "code",
   "execution_count": 79,
   "id": "01cafef0",
   "metadata": {},
   "outputs": [],
   "source": [
    "churnData[\"TotalCharges\"] = churnData[\"TotalCharges\"].apply(lambda x: np.nan if x == \" \" else x)"
   ]
  },
  {
   "cell_type": "code",
   "execution_count": 80,
   "id": "205e2338",
   "metadata": {},
   "outputs": [
    {
     "data": {
      "text/plain": [
       "gender               0\n",
       "SeniorCitizen        0\n",
       "Partner              0\n",
       "Dependents           0\n",
       "tenure               0\n",
       "PhoneService         0\n",
       "OnlineSecurity       0\n",
       "OnlineBackup         0\n",
       "DeviceProtection     0\n",
       "TechSupport          0\n",
       "StreamingTV          0\n",
       "StreamingMovies      0\n",
       "Contract             0\n",
       "MonthlyCharges       0\n",
       "TotalCharges        11\n",
       "Churn                0\n",
       "dtype: int64"
      ]
     },
     "execution_count": 80,
     "metadata": {},
     "output_type": "execute_result"
    }
   ],
   "source": [
    "churnData.isna().sum()"
   ]
  },
  {
   "cell_type": "code",
   "execution_count": 81,
   "id": "96fccee3",
   "metadata": {},
   "outputs": [],
   "source": [
    "# due to small numbers of null values, dropping a null values from Total Charges column\n",
    "churnData.dropna(subset=['TotalCharges'], inplace=True)"
   ]
  },
  {
   "cell_type": "code",
   "execution_count": 82,
   "id": "f05476b5",
   "metadata": {},
   "outputs": [
    {
     "data": {
      "text/plain": [
       "(7032, 16)"
      ]
     },
     "execution_count": 82,
     "metadata": {},
     "output_type": "execute_result"
    }
   ],
   "source": [
    "churnData.shape"
   ]
  },
  {
   "cell_type": "code",
   "execution_count": 83,
   "id": "9371b0d4",
   "metadata": {},
   "outputs": [
    {
     "data": {
      "text/plain": [
       "Index(['gender', 'SeniorCitizen', 'Partner', 'Dependents', 'tenure',\n",
       "       'PhoneService', 'OnlineSecurity', 'OnlineBackup', 'DeviceProtection',\n",
       "       'TechSupport', 'StreamingTV', 'StreamingMovies', 'Contract',\n",
       "       'MonthlyCharges', 'TotalCharges', 'Churn'],\n",
       "      dtype='object')"
      ]
     },
     "execution_count": 83,
     "metadata": {},
     "output_type": "execute_result"
    }
   ],
   "source": [
    "churnData.columns"
   ]
  },
  {
   "cell_type": "code",
   "execution_count": 84,
   "id": "58a4584b",
   "metadata": {},
   "outputs": [],
   "source": [
    "churnData.columns = [churnData.columns[i].lower() for i in range(len(churnData.columns))]"
   ]
  },
  {
   "cell_type": "code",
   "execution_count": 85,
   "id": "4ff57f32",
   "metadata": {},
   "outputs": [
    {
     "data": {
      "text/plain": [
       "Index(['gender', 'seniorcitizen', 'partner', 'dependents', 'tenure',\n",
       "       'phoneservice', 'onlinesecurity', 'onlinebackup', 'deviceprotection',\n",
       "       'techsupport', 'streamingtv', 'streamingmovies', 'contract',\n",
       "       'monthlycharges', 'totalcharges', 'churn'],\n",
       "      dtype='object')"
      ]
     },
     "execution_count": 85,
     "metadata": {},
     "output_type": "execute_result"
    }
   ],
   "source": [
    "churnData.columns"
   ]
  },
  {
   "cell_type": "code",
   "execution_count": 86,
   "id": "68604d86",
   "metadata": {},
   "outputs": [],
   "source": [
    "# Converting total charges column to numeric\n",
    "churnData['totalcharges']= pd.to_numeric(churnData['totalcharges'], errors = 'coerce' )"
   ]
  },
  {
   "cell_type": "code",
   "execution_count": 87,
   "id": "7f67964c",
   "metadata": {},
   "outputs": [
    {
     "name": "stdout",
     "output_type": "stream",
     "text": [
      "<class 'pandas.core.frame.DataFrame'>\n",
      "Int64Index: 7032 entries, 0 to 7042\n",
      "Data columns (total 16 columns):\n",
      " #   Column            Non-Null Count  Dtype  \n",
      "---  ------            --------------  -----  \n",
      " 0   gender            7032 non-null   object \n",
      " 1   seniorcitizen     7032 non-null   int64  \n",
      " 2   partner           7032 non-null   object \n",
      " 3   dependents        7032 non-null   object \n",
      " 4   tenure            7032 non-null   int64  \n",
      " 5   phoneservice      7032 non-null   object \n",
      " 6   onlinesecurity    7032 non-null   object \n",
      " 7   onlinebackup      7032 non-null   object \n",
      " 8   deviceprotection  7032 non-null   object \n",
      " 9   techsupport       7032 non-null   object \n",
      " 10  streamingtv       7032 non-null   object \n",
      " 11  streamingmovies   7032 non-null   object \n",
      " 12  contract          7032 non-null   object \n",
      " 13  monthlycharges    7032 non-null   float64\n",
      " 14  totalcharges      7032 non-null   float64\n",
      " 15  churn             7032 non-null   object \n",
      "dtypes: float64(2), int64(2), object(12)\n",
      "memory usage: 933.9+ KB\n"
     ]
    }
   ],
   "source": [
    "churnData.info()"
   ]
  },
  {
   "cell_type": "markdown",
   "id": "71cb9565",
   "metadata": {},
   "source": [
    " - **Encoding categorical**"
   ]
  },
  {
   "cell_type": "code",
   "execution_count": 88,
   "id": "a6bd8b54",
   "metadata": {},
   "outputs": [
    {
     "data": {
      "text/html": [
       "<div>\n",
       "<style scoped>\n",
       "    .dataframe tbody tr th:only-of-type {\n",
       "        vertical-align: middle;\n",
       "    }\n",
       "\n",
       "    .dataframe tbody tr th {\n",
       "        vertical-align: top;\n",
       "    }\n",
       "\n",
       "    .dataframe thead th {\n",
       "        text-align: right;\n",
       "    }\n",
       "</style>\n",
       "<table border=\"1\" class=\"dataframe\">\n",
       "  <thead>\n",
       "    <tr style=\"text-align: right;\">\n",
       "      <th></th>\n",
       "      <th>gender</th>\n",
       "      <th>partner</th>\n",
       "      <th>dependents</th>\n",
       "      <th>phoneservice</th>\n",
       "      <th>onlinesecurity</th>\n",
       "      <th>onlinebackup</th>\n",
       "      <th>deviceprotection</th>\n",
       "      <th>techsupport</th>\n",
       "      <th>streamingtv</th>\n",
       "      <th>streamingmovies</th>\n",
       "      <th>contract</th>\n",
       "      <th>churn</th>\n",
       "    </tr>\n",
       "  </thead>\n",
       "  <tbody>\n",
       "    <tr>\n",
       "      <th>0</th>\n",
       "      <td>Female</td>\n",
       "      <td>Yes</td>\n",
       "      <td>No</td>\n",
       "      <td>No</td>\n",
       "      <td>No</td>\n",
       "      <td>Yes</td>\n",
       "      <td>No</td>\n",
       "      <td>No</td>\n",
       "      <td>No</td>\n",
       "      <td>No</td>\n",
       "      <td>Month-to-month</td>\n",
       "      <td>No</td>\n",
       "    </tr>\n",
       "    <tr>\n",
       "      <th>1</th>\n",
       "      <td>Male</td>\n",
       "      <td>No</td>\n",
       "      <td>No</td>\n",
       "      <td>Yes</td>\n",
       "      <td>Yes</td>\n",
       "      <td>No</td>\n",
       "      <td>Yes</td>\n",
       "      <td>No</td>\n",
       "      <td>No</td>\n",
       "      <td>No</td>\n",
       "      <td>One year</td>\n",
       "      <td>No</td>\n",
       "    </tr>\n",
       "    <tr>\n",
       "      <th>2</th>\n",
       "      <td>Male</td>\n",
       "      <td>No</td>\n",
       "      <td>No</td>\n",
       "      <td>Yes</td>\n",
       "      <td>Yes</td>\n",
       "      <td>Yes</td>\n",
       "      <td>No</td>\n",
       "      <td>No</td>\n",
       "      <td>No</td>\n",
       "      <td>No</td>\n",
       "      <td>Month-to-month</td>\n",
       "      <td>Yes</td>\n",
       "    </tr>\n",
       "    <tr>\n",
       "      <th>3</th>\n",
       "      <td>Male</td>\n",
       "      <td>No</td>\n",
       "      <td>No</td>\n",
       "      <td>No</td>\n",
       "      <td>Yes</td>\n",
       "      <td>No</td>\n",
       "      <td>Yes</td>\n",
       "      <td>Yes</td>\n",
       "      <td>No</td>\n",
       "      <td>No</td>\n",
       "      <td>One year</td>\n",
       "      <td>No</td>\n",
       "    </tr>\n",
       "    <tr>\n",
       "      <th>4</th>\n",
       "      <td>Female</td>\n",
       "      <td>No</td>\n",
       "      <td>No</td>\n",
       "      <td>Yes</td>\n",
       "      <td>No</td>\n",
       "      <td>No</td>\n",
       "      <td>No</td>\n",
       "      <td>No</td>\n",
       "      <td>No</td>\n",
       "      <td>No</td>\n",
       "      <td>Month-to-month</td>\n",
       "      <td>Yes</td>\n",
       "    </tr>\n",
       "  </tbody>\n",
       "</table>\n",
       "</div>"
      ],
      "text/plain": [
       "   gender partner dependents phoneservice onlinesecurity onlinebackup  \\\n",
       "0  Female     Yes         No           No             No          Yes   \n",
       "1    Male      No         No          Yes            Yes           No   \n",
       "2    Male      No         No          Yes            Yes          Yes   \n",
       "3    Male      No         No           No            Yes           No   \n",
       "4  Female      No         No          Yes             No           No   \n",
       "\n",
       "  deviceprotection techsupport streamingtv streamingmovies        contract  \\\n",
       "0               No          No          No              No  Month-to-month   \n",
       "1              Yes          No          No              No        One year   \n",
       "2               No          No          No              No  Month-to-month   \n",
       "3              Yes         Yes          No              No        One year   \n",
       "4               No          No          No              No  Month-to-month   \n",
       "\n",
       "  churn  \n",
       "0    No  \n",
       "1    No  \n",
       "2   Yes  \n",
       "3    No  \n",
       "4   Yes  "
      ]
     },
     "execution_count": 88,
     "metadata": {},
     "output_type": "execute_result"
    }
   ],
   "source": [
    "cat = churnData[churnData.select_dtypes(\"object\").columns]\n",
    "cat.head()"
   ]
  },
  {
   "cell_type": "code",
   "execution_count": 89,
   "id": "6df481f6",
   "metadata": {},
   "outputs": [
    {
     "data": {
      "text/plain": [
       "Index(['gender', 'partner', 'dependents', 'phoneservice', 'onlinesecurity',\n",
       "       'onlinebackup', 'deviceprotection', 'techsupport', 'streamingtv',\n",
       "       'streamingmovies', 'contract', 'churn'],\n",
       "      dtype='object')"
      ]
     },
     "execution_count": 89,
     "metadata": {},
     "output_type": "execute_result"
    }
   ],
   "source": [
    "cat.columns"
   ]
  },
  {
   "cell_type": "code",
   "execution_count": 90,
   "id": "334f9e1c",
   "metadata": {},
   "outputs": [
    {
     "data": {
      "text/plain": [
       "Male      3549\n",
       "Female    3483\n",
       "Name: gender, dtype: int64"
      ]
     },
     "execution_count": 90,
     "metadata": {},
     "output_type": "execute_result"
    }
   ],
   "source": [
    "cat['gender'].value_counts()"
   ]
  },
  {
   "cell_type": "code",
   "execution_count": 91,
   "id": "f53b1b09",
   "metadata": {},
   "outputs": [
    {
     "data": {
      "text/plain": [
       "No     3639\n",
       "Yes    3393\n",
       "Name: partner, dtype: int64"
      ]
     },
     "execution_count": 91,
     "metadata": {},
     "output_type": "execute_result"
    }
   ],
   "source": [
    "cat['partner'].value_counts()"
   ]
  },
  {
   "cell_type": "code",
   "execution_count": 92,
   "id": "35c53a34",
   "metadata": {},
   "outputs": [
    {
     "data": {
      "text/plain": [
       "No     4933\n",
       "Yes    2099\n",
       "Name: dependents, dtype: int64"
      ]
     },
     "execution_count": 92,
     "metadata": {},
     "output_type": "execute_result"
    }
   ],
   "source": [
    "cat['dependents'].value_counts()"
   ]
  },
  {
   "cell_type": "code",
   "execution_count": 93,
   "id": "247a92f7",
   "metadata": {},
   "outputs": [
    {
     "data": {
      "text/plain": [
       "Yes    6352\n",
       "No      680\n",
       "Name: phoneservice, dtype: int64"
      ]
     },
     "execution_count": 93,
     "metadata": {},
     "output_type": "execute_result"
    }
   ],
   "source": [
    "cat['phoneservice'].value_counts()"
   ]
  },
  {
   "cell_type": "code",
   "execution_count": 94,
   "id": "9c67ead5",
   "metadata": {},
   "outputs": [
    {
     "data": {
      "text/plain": [
       "No                     3497\n",
       "Yes                    2015\n",
       "No internet service    1520\n",
       "Name: onlinesecurity, dtype: int64"
      ]
     },
     "execution_count": 94,
     "metadata": {},
     "output_type": "execute_result"
    }
   ],
   "source": [
    "cat['onlinesecurity'].value_counts()"
   ]
  },
  {
   "cell_type": "code",
   "execution_count": 95,
   "id": "612f2d2b",
   "metadata": {},
   "outputs": [
    {
     "data": {
      "text/plain": [
       "No                     3087\n",
       "Yes                    2425\n",
       "No internet service    1520\n",
       "Name: onlinebackup, dtype: int64"
      ]
     },
     "execution_count": 95,
     "metadata": {},
     "output_type": "execute_result"
    }
   ],
   "source": [
    "cat['onlinebackup'].value_counts()"
   ]
  },
  {
   "cell_type": "code",
   "execution_count": 96,
   "id": "3c9c2650",
   "metadata": {},
   "outputs": [
    {
     "data": {
      "text/plain": [
       "No                     3094\n",
       "Yes                    2418\n",
       "No internet service    1520\n",
       "Name: deviceprotection, dtype: int64"
      ]
     },
     "execution_count": 96,
     "metadata": {},
     "output_type": "execute_result"
    }
   ],
   "source": [
    "cat['deviceprotection'].value_counts()"
   ]
  },
  {
   "cell_type": "code",
   "execution_count": 97,
   "id": "fe9a8b0c",
   "metadata": {},
   "outputs": [
    {
     "data": {
      "text/plain": [
       "No                     3472\n",
       "Yes                    2040\n",
       "No internet service    1520\n",
       "Name: techsupport, dtype: int64"
      ]
     },
     "execution_count": 97,
     "metadata": {},
     "output_type": "execute_result"
    }
   ],
   "source": [
    "cat['techsupport'].value_counts()"
   ]
  },
  {
   "cell_type": "code",
   "execution_count": 98,
   "id": "871064c5",
   "metadata": {},
   "outputs": [
    {
     "data": {
      "text/plain": [
       "No                     2809\n",
       "Yes                    2703\n",
       "No internet service    1520\n",
       "Name: streamingtv, dtype: int64"
      ]
     },
     "execution_count": 98,
     "metadata": {},
     "output_type": "execute_result"
    }
   ],
   "source": [
    "cat['streamingtv'].value_counts()"
   ]
  },
  {
   "cell_type": "code",
   "execution_count": 99,
   "id": "48c5f5b4",
   "metadata": {},
   "outputs": [
    {
     "data": {
      "text/plain": [
       "No                     2781\n",
       "Yes                    2731\n",
       "No internet service    1520\n",
       "Name: streamingmovies, dtype: int64"
      ]
     },
     "execution_count": 99,
     "metadata": {},
     "output_type": "execute_result"
    }
   ],
   "source": [
    "cat['streamingmovies'].value_counts()"
   ]
  },
  {
   "cell_type": "code",
   "execution_count": 100,
   "id": "27a9ef58",
   "metadata": {},
   "outputs": [
    {
     "data": {
      "text/plain": [
       "Month-to-month    3875\n",
       "Two year          1685\n",
       "One year          1472\n",
       "Name: contract, dtype: int64"
      ]
     },
     "execution_count": 100,
     "metadata": {},
     "output_type": "execute_result"
    }
   ],
   "source": [
    "cat['contract'].value_counts()"
   ]
  },
  {
   "cell_type": "code",
   "execution_count": 101,
   "id": "418b46f4",
   "metadata": {},
   "outputs": [
    {
     "data": {
      "text/plain": [
       "No     5163\n",
       "Yes    1869\n",
       "Name: churn, dtype: int64"
      ]
     },
     "execution_count": 101,
     "metadata": {},
     "output_type": "execute_result"
    }
   ],
   "source": [
    "cat['churn'].value_counts()"
   ]
  },
  {
   "cell_type": "markdown",
   "id": "756e4151",
   "metadata": {},
   "source": [
    "**Below columns are type of binary values yes and no, so converting those columns into 0 and 1**\n",
    " - partner\n",
    " - dependents\n",
    " - phoneservice"
   ]
  },
  {
   "cell_type": "code",
   "execution_count": 102,
   "id": "1a017a16",
   "metadata": {},
   "outputs": [],
   "source": [
    "churnData['partner'] = churnData['partner'].apply(lambda x: 1 if x == \"Yes\" else 0)"
   ]
  },
  {
   "cell_type": "code",
   "execution_count": 103,
   "id": "5666975f",
   "metadata": {},
   "outputs": [
    {
     "data": {
      "text/plain": [
       "0    3639\n",
       "1    3393\n",
       "Name: partner, dtype: int64"
      ]
     },
     "execution_count": 103,
     "metadata": {},
     "output_type": "execute_result"
    }
   ],
   "source": [
    "churnData['partner'].value_counts()"
   ]
  },
  {
   "cell_type": "code",
   "execution_count": 104,
   "id": "e5d313e4",
   "metadata": {},
   "outputs": [],
   "source": [
    "churnData['dependents'] = churnData['dependents'].apply(lambda x: 1 if x == \"Yes\" else 0)"
   ]
  },
  {
   "cell_type": "code",
   "execution_count": 105,
   "id": "2a2d96cf",
   "metadata": {},
   "outputs": [
    {
     "data": {
      "text/plain": [
       "0    4933\n",
       "1    2099\n",
       "Name: dependents, dtype: int64"
      ]
     },
     "execution_count": 105,
     "metadata": {},
     "output_type": "execute_result"
    }
   ],
   "source": [
    "churnData['dependents'].value_counts()"
   ]
  },
  {
   "cell_type": "code",
   "execution_count": 106,
   "id": "dceb6f7a",
   "metadata": {},
   "outputs": [],
   "source": [
    "churnData['phoneservice'] = churnData['phoneservice'].apply(lambda x: 1 if x == \"Yes\" else 0)"
   ]
  },
  {
   "cell_type": "code",
   "execution_count": 107,
   "id": "3f85bb72",
   "metadata": {},
   "outputs": [
    {
     "data": {
      "text/plain": [
       "1    6352\n",
       "0     680\n",
       "Name: phoneservice, dtype: int64"
      ]
     },
     "execution_count": 107,
     "metadata": {},
     "output_type": "execute_result"
    }
   ],
   "source": [
    "churnData['phoneservice'].value_counts()"
   ]
  },
  {
   "cell_type": "markdown",
   "id": "fb3da06f",
   "metadata": {},
   "source": [
    "**Converting other categorical columns into numerical using get dummies**"
   ]
  },
  {
   "cell_type": "code",
   "execution_count": 108,
   "id": "63c3fc50",
   "metadata": {},
   "outputs": [],
   "source": [
    "cat_dummies = cat[['onlinesecurity',\n",
    "       'onlinebackup', 'deviceprotection', 'techsupport', 'streamingtv',\n",
    "       'streamingmovies', 'contract']]"
   ]
  },
  {
   "cell_type": "code",
   "execution_count": 109,
   "id": "865a8f8e",
   "metadata": {},
   "outputs": [
    {
     "data": {
      "text/html": [
       "<div>\n",
       "<style scoped>\n",
       "    .dataframe tbody tr th:only-of-type {\n",
       "        vertical-align: middle;\n",
       "    }\n",
       "\n",
       "    .dataframe tbody tr th {\n",
       "        vertical-align: top;\n",
       "    }\n",
       "\n",
       "    .dataframe thead th {\n",
       "        text-align: right;\n",
       "    }\n",
       "</style>\n",
       "<table border=\"1\" class=\"dataframe\">\n",
       "  <thead>\n",
       "    <tr style=\"text-align: right;\">\n",
       "      <th></th>\n",
       "      <th>onlinesecurity</th>\n",
       "      <th>onlinebackup</th>\n",
       "      <th>deviceprotection</th>\n",
       "      <th>techsupport</th>\n",
       "      <th>streamingtv</th>\n",
       "      <th>streamingmovies</th>\n",
       "      <th>contract</th>\n",
       "    </tr>\n",
       "  </thead>\n",
       "  <tbody>\n",
       "    <tr>\n",
       "      <th>0</th>\n",
       "      <td>No</td>\n",
       "      <td>Yes</td>\n",
       "      <td>No</td>\n",
       "      <td>No</td>\n",
       "      <td>No</td>\n",
       "      <td>No</td>\n",
       "      <td>Month-to-month</td>\n",
       "    </tr>\n",
       "    <tr>\n",
       "      <th>1</th>\n",
       "      <td>Yes</td>\n",
       "      <td>No</td>\n",
       "      <td>Yes</td>\n",
       "      <td>No</td>\n",
       "      <td>No</td>\n",
       "      <td>No</td>\n",
       "      <td>One year</td>\n",
       "    </tr>\n",
       "    <tr>\n",
       "      <th>2</th>\n",
       "      <td>Yes</td>\n",
       "      <td>Yes</td>\n",
       "      <td>No</td>\n",
       "      <td>No</td>\n",
       "      <td>No</td>\n",
       "      <td>No</td>\n",
       "      <td>Month-to-month</td>\n",
       "    </tr>\n",
       "    <tr>\n",
       "      <th>3</th>\n",
       "      <td>Yes</td>\n",
       "      <td>No</td>\n",
       "      <td>Yes</td>\n",
       "      <td>Yes</td>\n",
       "      <td>No</td>\n",
       "      <td>No</td>\n",
       "      <td>One year</td>\n",
       "    </tr>\n",
       "    <tr>\n",
       "      <th>4</th>\n",
       "      <td>No</td>\n",
       "      <td>No</td>\n",
       "      <td>No</td>\n",
       "      <td>No</td>\n",
       "      <td>No</td>\n",
       "      <td>No</td>\n",
       "      <td>Month-to-month</td>\n",
       "    </tr>\n",
       "    <tr>\n",
       "      <th>5</th>\n",
       "      <td>No</td>\n",
       "      <td>No</td>\n",
       "      <td>Yes</td>\n",
       "      <td>No</td>\n",
       "      <td>Yes</td>\n",
       "      <td>Yes</td>\n",
       "      <td>Month-to-month</td>\n",
       "    </tr>\n",
       "    <tr>\n",
       "      <th>6</th>\n",
       "      <td>No</td>\n",
       "      <td>Yes</td>\n",
       "      <td>No</td>\n",
       "      <td>No</td>\n",
       "      <td>Yes</td>\n",
       "      <td>No</td>\n",
       "      <td>Month-to-month</td>\n",
       "    </tr>\n",
       "    <tr>\n",
       "      <th>7</th>\n",
       "      <td>Yes</td>\n",
       "      <td>No</td>\n",
       "      <td>No</td>\n",
       "      <td>No</td>\n",
       "      <td>No</td>\n",
       "      <td>No</td>\n",
       "      <td>Month-to-month</td>\n",
       "    </tr>\n",
       "    <tr>\n",
       "      <th>8</th>\n",
       "      <td>No</td>\n",
       "      <td>No</td>\n",
       "      <td>Yes</td>\n",
       "      <td>Yes</td>\n",
       "      <td>Yes</td>\n",
       "      <td>Yes</td>\n",
       "      <td>Month-to-month</td>\n",
       "    </tr>\n",
       "    <tr>\n",
       "      <th>9</th>\n",
       "      <td>Yes</td>\n",
       "      <td>Yes</td>\n",
       "      <td>No</td>\n",
       "      <td>No</td>\n",
       "      <td>No</td>\n",
       "      <td>No</td>\n",
       "      <td>One year</td>\n",
       "    </tr>\n",
       "    <tr>\n",
       "      <th>10</th>\n",
       "      <td>Yes</td>\n",
       "      <td>No</td>\n",
       "      <td>No</td>\n",
       "      <td>No</td>\n",
       "      <td>No</td>\n",
       "      <td>No</td>\n",
       "      <td>Month-to-month</td>\n",
       "    </tr>\n",
       "    <tr>\n",
       "      <th>11</th>\n",
       "      <td>No internet service</td>\n",
       "      <td>No internet service</td>\n",
       "      <td>No internet service</td>\n",
       "      <td>No internet service</td>\n",
       "      <td>No internet service</td>\n",
       "      <td>No internet service</td>\n",
       "      <td>Two year</td>\n",
       "    </tr>\n",
       "    <tr>\n",
       "      <th>12</th>\n",
       "      <td>No</td>\n",
       "      <td>No</td>\n",
       "      <td>Yes</td>\n",
       "      <td>No</td>\n",
       "      <td>Yes</td>\n",
       "      <td>Yes</td>\n",
       "      <td>One year</td>\n",
       "    </tr>\n",
       "    <tr>\n",
       "      <th>13</th>\n",
       "      <td>No</td>\n",
       "      <td>Yes</td>\n",
       "      <td>Yes</td>\n",
       "      <td>No</td>\n",
       "      <td>Yes</td>\n",
       "      <td>Yes</td>\n",
       "      <td>Month-to-month</td>\n",
       "    </tr>\n",
       "    <tr>\n",
       "      <th>14</th>\n",
       "      <td>Yes</td>\n",
       "      <td>No</td>\n",
       "      <td>Yes</td>\n",
       "      <td>Yes</td>\n",
       "      <td>Yes</td>\n",
       "      <td>Yes</td>\n",
       "      <td>Month-to-month</td>\n",
       "    </tr>\n",
       "    <tr>\n",
       "      <th>15</th>\n",
       "      <td>Yes</td>\n",
       "      <td>Yes</td>\n",
       "      <td>Yes</td>\n",
       "      <td>Yes</td>\n",
       "      <td>Yes</td>\n",
       "      <td>Yes</td>\n",
       "      <td>Two year</td>\n",
       "    </tr>\n",
       "    <tr>\n",
       "      <th>16</th>\n",
       "      <td>No internet service</td>\n",
       "      <td>No internet service</td>\n",
       "      <td>No internet service</td>\n",
       "      <td>No internet service</td>\n",
       "      <td>No internet service</td>\n",
       "      <td>No internet service</td>\n",
       "      <td>One year</td>\n",
       "    </tr>\n",
       "    <tr>\n",
       "      <th>17</th>\n",
       "      <td>Yes</td>\n",
       "      <td>No</td>\n",
       "      <td>Yes</td>\n",
       "      <td>No</td>\n",
       "      <td>Yes</td>\n",
       "      <td>Yes</td>\n",
       "      <td>Two year</td>\n",
       "    </tr>\n",
       "    <tr>\n",
       "      <th>18</th>\n",
       "      <td>No</td>\n",
       "      <td>No</td>\n",
       "      <td>Yes</td>\n",
       "      <td>Yes</td>\n",
       "      <td>No</td>\n",
       "      <td>No</td>\n",
       "      <td>Month-to-month</td>\n",
       "    </tr>\n",
       "    <tr>\n",
       "      <th>19</th>\n",
       "      <td>No</td>\n",
       "      <td>Yes</td>\n",
       "      <td>Yes</td>\n",
       "      <td>No</td>\n",
       "      <td>No</td>\n",
       "      <td>Yes</td>\n",
       "      <td>Month-to-month</td>\n",
       "    </tr>\n",
       "  </tbody>\n",
       "</table>\n",
       "</div>"
      ],
      "text/plain": [
       "         onlinesecurity         onlinebackup     deviceprotection  \\\n",
       "0                    No                  Yes                   No   \n",
       "1                   Yes                   No                  Yes   \n",
       "2                   Yes                  Yes                   No   \n",
       "3                   Yes                   No                  Yes   \n",
       "4                    No                   No                   No   \n",
       "5                    No                   No                  Yes   \n",
       "6                    No                  Yes                   No   \n",
       "7                   Yes                   No                   No   \n",
       "8                    No                   No                  Yes   \n",
       "9                   Yes                  Yes                   No   \n",
       "10                  Yes                   No                   No   \n",
       "11  No internet service  No internet service  No internet service   \n",
       "12                   No                   No                  Yes   \n",
       "13                   No                  Yes                  Yes   \n",
       "14                  Yes                   No                  Yes   \n",
       "15                  Yes                  Yes                  Yes   \n",
       "16  No internet service  No internet service  No internet service   \n",
       "17                  Yes                   No                  Yes   \n",
       "18                   No                   No                  Yes   \n",
       "19                   No                  Yes                  Yes   \n",
       "\n",
       "            techsupport          streamingtv      streamingmovies  \\\n",
       "0                    No                   No                   No   \n",
       "1                    No                   No                   No   \n",
       "2                    No                   No                   No   \n",
       "3                   Yes                   No                   No   \n",
       "4                    No                   No                   No   \n",
       "5                    No                  Yes                  Yes   \n",
       "6                    No                  Yes                   No   \n",
       "7                    No                   No                   No   \n",
       "8                   Yes                  Yes                  Yes   \n",
       "9                    No                   No                   No   \n",
       "10                   No                   No                   No   \n",
       "11  No internet service  No internet service  No internet service   \n",
       "12                   No                  Yes                  Yes   \n",
       "13                   No                  Yes                  Yes   \n",
       "14                  Yes                  Yes                  Yes   \n",
       "15                  Yes                  Yes                  Yes   \n",
       "16  No internet service  No internet service  No internet service   \n",
       "17                   No                  Yes                  Yes   \n",
       "18                  Yes                   No                   No   \n",
       "19                   No                   No                  Yes   \n",
       "\n",
       "          contract  \n",
       "0   Month-to-month  \n",
       "1         One year  \n",
       "2   Month-to-month  \n",
       "3         One year  \n",
       "4   Month-to-month  \n",
       "5   Month-to-month  \n",
       "6   Month-to-month  \n",
       "7   Month-to-month  \n",
       "8   Month-to-month  \n",
       "9         One year  \n",
       "10  Month-to-month  \n",
       "11        Two year  \n",
       "12        One year  \n",
       "13  Month-to-month  \n",
       "14  Month-to-month  \n",
       "15        Two year  \n",
       "16        One year  \n",
       "17        Two year  \n",
       "18  Month-to-month  \n",
       "19  Month-to-month  "
      ]
     },
     "execution_count": 109,
     "metadata": {},
     "output_type": "execute_result"
    }
   ],
   "source": [
    "cat_dummies.head(20)"
   ]
  },
  {
   "cell_type": "code",
   "execution_count": 110,
   "id": "18541a84",
   "metadata": {},
   "outputs": [],
   "source": [
    "cat_dummies = pd.get_dummies(cat_dummies)"
   ]
  },
  {
   "cell_type": "code",
   "execution_count": 111,
   "id": "bdeb3094",
   "metadata": {},
   "outputs": [
    {
     "data": {
      "text/html": [
       "<div>\n",
       "<style scoped>\n",
       "    .dataframe tbody tr th:only-of-type {\n",
       "        vertical-align: middle;\n",
       "    }\n",
       "\n",
       "    .dataframe tbody tr th {\n",
       "        vertical-align: top;\n",
       "    }\n",
       "\n",
       "    .dataframe thead th {\n",
       "        text-align: right;\n",
       "    }\n",
       "</style>\n",
       "<table border=\"1\" class=\"dataframe\">\n",
       "  <thead>\n",
       "    <tr style=\"text-align: right;\">\n",
       "      <th></th>\n",
       "      <th>onlinesecurity_No</th>\n",
       "      <th>onlinesecurity_No internet service</th>\n",
       "      <th>onlinesecurity_Yes</th>\n",
       "      <th>onlinebackup_No</th>\n",
       "      <th>onlinebackup_No internet service</th>\n",
       "      <th>onlinebackup_Yes</th>\n",
       "      <th>deviceprotection_No</th>\n",
       "      <th>deviceprotection_No internet service</th>\n",
       "      <th>deviceprotection_Yes</th>\n",
       "      <th>techsupport_No</th>\n",
       "      <th>...</th>\n",
       "      <th>techsupport_Yes</th>\n",
       "      <th>streamingtv_No</th>\n",
       "      <th>streamingtv_No internet service</th>\n",
       "      <th>streamingtv_Yes</th>\n",
       "      <th>streamingmovies_No</th>\n",
       "      <th>streamingmovies_No internet service</th>\n",
       "      <th>streamingmovies_Yes</th>\n",
       "      <th>contract_Month-to-month</th>\n",
       "      <th>contract_One year</th>\n",
       "      <th>contract_Two year</th>\n",
       "    </tr>\n",
       "  </thead>\n",
       "  <tbody>\n",
       "    <tr>\n",
       "      <th>0</th>\n",
       "      <td>1</td>\n",
       "      <td>0</td>\n",
       "      <td>0</td>\n",
       "      <td>0</td>\n",
       "      <td>0</td>\n",
       "      <td>1</td>\n",
       "      <td>1</td>\n",
       "      <td>0</td>\n",
       "      <td>0</td>\n",
       "      <td>1</td>\n",
       "      <td>...</td>\n",
       "      <td>0</td>\n",
       "      <td>1</td>\n",
       "      <td>0</td>\n",
       "      <td>0</td>\n",
       "      <td>1</td>\n",
       "      <td>0</td>\n",
       "      <td>0</td>\n",
       "      <td>1</td>\n",
       "      <td>0</td>\n",
       "      <td>0</td>\n",
       "    </tr>\n",
       "    <tr>\n",
       "      <th>1</th>\n",
       "      <td>0</td>\n",
       "      <td>0</td>\n",
       "      <td>1</td>\n",
       "      <td>1</td>\n",
       "      <td>0</td>\n",
       "      <td>0</td>\n",
       "      <td>0</td>\n",
       "      <td>0</td>\n",
       "      <td>1</td>\n",
       "      <td>1</td>\n",
       "      <td>...</td>\n",
       "      <td>0</td>\n",
       "      <td>1</td>\n",
       "      <td>0</td>\n",
       "      <td>0</td>\n",
       "      <td>1</td>\n",
       "      <td>0</td>\n",
       "      <td>0</td>\n",
       "      <td>0</td>\n",
       "      <td>1</td>\n",
       "      <td>0</td>\n",
       "    </tr>\n",
       "    <tr>\n",
       "      <th>2</th>\n",
       "      <td>0</td>\n",
       "      <td>0</td>\n",
       "      <td>1</td>\n",
       "      <td>0</td>\n",
       "      <td>0</td>\n",
       "      <td>1</td>\n",
       "      <td>1</td>\n",
       "      <td>0</td>\n",
       "      <td>0</td>\n",
       "      <td>1</td>\n",
       "      <td>...</td>\n",
       "      <td>0</td>\n",
       "      <td>1</td>\n",
       "      <td>0</td>\n",
       "      <td>0</td>\n",
       "      <td>1</td>\n",
       "      <td>0</td>\n",
       "      <td>0</td>\n",
       "      <td>1</td>\n",
       "      <td>0</td>\n",
       "      <td>0</td>\n",
       "    </tr>\n",
       "    <tr>\n",
       "      <th>3</th>\n",
       "      <td>0</td>\n",
       "      <td>0</td>\n",
       "      <td>1</td>\n",
       "      <td>1</td>\n",
       "      <td>0</td>\n",
       "      <td>0</td>\n",
       "      <td>0</td>\n",
       "      <td>0</td>\n",
       "      <td>1</td>\n",
       "      <td>0</td>\n",
       "      <td>...</td>\n",
       "      <td>1</td>\n",
       "      <td>1</td>\n",
       "      <td>0</td>\n",
       "      <td>0</td>\n",
       "      <td>1</td>\n",
       "      <td>0</td>\n",
       "      <td>0</td>\n",
       "      <td>0</td>\n",
       "      <td>1</td>\n",
       "      <td>0</td>\n",
       "    </tr>\n",
       "    <tr>\n",
       "      <th>4</th>\n",
       "      <td>1</td>\n",
       "      <td>0</td>\n",
       "      <td>0</td>\n",
       "      <td>1</td>\n",
       "      <td>0</td>\n",
       "      <td>0</td>\n",
       "      <td>1</td>\n",
       "      <td>0</td>\n",
       "      <td>0</td>\n",
       "      <td>1</td>\n",
       "      <td>...</td>\n",
       "      <td>0</td>\n",
       "      <td>1</td>\n",
       "      <td>0</td>\n",
       "      <td>0</td>\n",
       "      <td>1</td>\n",
       "      <td>0</td>\n",
       "      <td>0</td>\n",
       "      <td>1</td>\n",
       "      <td>0</td>\n",
       "      <td>0</td>\n",
       "    </tr>\n",
       "    <tr>\n",
       "      <th>5</th>\n",
       "      <td>1</td>\n",
       "      <td>0</td>\n",
       "      <td>0</td>\n",
       "      <td>1</td>\n",
       "      <td>0</td>\n",
       "      <td>0</td>\n",
       "      <td>0</td>\n",
       "      <td>0</td>\n",
       "      <td>1</td>\n",
       "      <td>1</td>\n",
       "      <td>...</td>\n",
       "      <td>0</td>\n",
       "      <td>0</td>\n",
       "      <td>0</td>\n",
       "      <td>1</td>\n",
       "      <td>0</td>\n",
       "      <td>0</td>\n",
       "      <td>1</td>\n",
       "      <td>1</td>\n",
       "      <td>0</td>\n",
       "      <td>0</td>\n",
       "    </tr>\n",
       "    <tr>\n",
       "      <th>6</th>\n",
       "      <td>1</td>\n",
       "      <td>0</td>\n",
       "      <td>0</td>\n",
       "      <td>0</td>\n",
       "      <td>0</td>\n",
       "      <td>1</td>\n",
       "      <td>1</td>\n",
       "      <td>0</td>\n",
       "      <td>0</td>\n",
       "      <td>1</td>\n",
       "      <td>...</td>\n",
       "      <td>0</td>\n",
       "      <td>0</td>\n",
       "      <td>0</td>\n",
       "      <td>1</td>\n",
       "      <td>1</td>\n",
       "      <td>0</td>\n",
       "      <td>0</td>\n",
       "      <td>1</td>\n",
       "      <td>0</td>\n",
       "      <td>0</td>\n",
       "    </tr>\n",
       "    <tr>\n",
       "      <th>7</th>\n",
       "      <td>0</td>\n",
       "      <td>0</td>\n",
       "      <td>1</td>\n",
       "      <td>1</td>\n",
       "      <td>0</td>\n",
       "      <td>0</td>\n",
       "      <td>1</td>\n",
       "      <td>0</td>\n",
       "      <td>0</td>\n",
       "      <td>1</td>\n",
       "      <td>...</td>\n",
       "      <td>0</td>\n",
       "      <td>1</td>\n",
       "      <td>0</td>\n",
       "      <td>0</td>\n",
       "      <td>1</td>\n",
       "      <td>0</td>\n",
       "      <td>0</td>\n",
       "      <td>1</td>\n",
       "      <td>0</td>\n",
       "      <td>0</td>\n",
       "    </tr>\n",
       "    <tr>\n",
       "      <th>8</th>\n",
       "      <td>1</td>\n",
       "      <td>0</td>\n",
       "      <td>0</td>\n",
       "      <td>1</td>\n",
       "      <td>0</td>\n",
       "      <td>0</td>\n",
       "      <td>0</td>\n",
       "      <td>0</td>\n",
       "      <td>1</td>\n",
       "      <td>0</td>\n",
       "      <td>...</td>\n",
       "      <td>1</td>\n",
       "      <td>0</td>\n",
       "      <td>0</td>\n",
       "      <td>1</td>\n",
       "      <td>0</td>\n",
       "      <td>0</td>\n",
       "      <td>1</td>\n",
       "      <td>1</td>\n",
       "      <td>0</td>\n",
       "      <td>0</td>\n",
       "    </tr>\n",
       "    <tr>\n",
       "      <th>9</th>\n",
       "      <td>0</td>\n",
       "      <td>0</td>\n",
       "      <td>1</td>\n",
       "      <td>0</td>\n",
       "      <td>0</td>\n",
       "      <td>1</td>\n",
       "      <td>1</td>\n",
       "      <td>0</td>\n",
       "      <td>0</td>\n",
       "      <td>1</td>\n",
       "      <td>...</td>\n",
       "      <td>0</td>\n",
       "      <td>1</td>\n",
       "      <td>0</td>\n",
       "      <td>0</td>\n",
       "      <td>1</td>\n",
       "      <td>0</td>\n",
       "      <td>0</td>\n",
       "      <td>0</td>\n",
       "      <td>1</td>\n",
       "      <td>0</td>\n",
       "    </tr>\n",
       "    <tr>\n",
       "      <th>10</th>\n",
       "      <td>0</td>\n",
       "      <td>0</td>\n",
       "      <td>1</td>\n",
       "      <td>1</td>\n",
       "      <td>0</td>\n",
       "      <td>0</td>\n",
       "      <td>1</td>\n",
       "      <td>0</td>\n",
       "      <td>0</td>\n",
       "      <td>1</td>\n",
       "      <td>...</td>\n",
       "      <td>0</td>\n",
       "      <td>1</td>\n",
       "      <td>0</td>\n",
       "      <td>0</td>\n",
       "      <td>1</td>\n",
       "      <td>0</td>\n",
       "      <td>0</td>\n",
       "      <td>1</td>\n",
       "      <td>0</td>\n",
       "      <td>0</td>\n",
       "    </tr>\n",
       "    <tr>\n",
       "      <th>11</th>\n",
       "      <td>0</td>\n",
       "      <td>1</td>\n",
       "      <td>0</td>\n",
       "      <td>0</td>\n",
       "      <td>1</td>\n",
       "      <td>0</td>\n",
       "      <td>0</td>\n",
       "      <td>1</td>\n",
       "      <td>0</td>\n",
       "      <td>0</td>\n",
       "      <td>...</td>\n",
       "      <td>0</td>\n",
       "      <td>0</td>\n",
       "      <td>1</td>\n",
       "      <td>0</td>\n",
       "      <td>0</td>\n",
       "      <td>1</td>\n",
       "      <td>0</td>\n",
       "      <td>0</td>\n",
       "      <td>0</td>\n",
       "      <td>1</td>\n",
       "    </tr>\n",
       "    <tr>\n",
       "      <th>12</th>\n",
       "      <td>1</td>\n",
       "      <td>0</td>\n",
       "      <td>0</td>\n",
       "      <td>1</td>\n",
       "      <td>0</td>\n",
       "      <td>0</td>\n",
       "      <td>0</td>\n",
       "      <td>0</td>\n",
       "      <td>1</td>\n",
       "      <td>1</td>\n",
       "      <td>...</td>\n",
       "      <td>0</td>\n",
       "      <td>0</td>\n",
       "      <td>0</td>\n",
       "      <td>1</td>\n",
       "      <td>0</td>\n",
       "      <td>0</td>\n",
       "      <td>1</td>\n",
       "      <td>0</td>\n",
       "      <td>1</td>\n",
       "      <td>0</td>\n",
       "    </tr>\n",
       "    <tr>\n",
       "      <th>13</th>\n",
       "      <td>1</td>\n",
       "      <td>0</td>\n",
       "      <td>0</td>\n",
       "      <td>0</td>\n",
       "      <td>0</td>\n",
       "      <td>1</td>\n",
       "      <td>0</td>\n",
       "      <td>0</td>\n",
       "      <td>1</td>\n",
       "      <td>1</td>\n",
       "      <td>...</td>\n",
       "      <td>0</td>\n",
       "      <td>0</td>\n",
       "      <td>0</td>\n",
       "      <td>1</td>\n",
       "      <td>0</td>\n",
       "      <td>0</td>\n",
       "      <td>1</td>\n",
       "      <td>1</td>\n",
       "      <td>0</td>\n",
       "      <td>0</td>\n",
       "    </tr>\n",
       "    <tr>\n",
       "      <th>14</th>\n",
       "      <td>0</td>\n",
       "      <td>0</td>\n",
       "      <td>1</td>\n",
       "      <td>1</td>\n",
       "      <td>0</td>\n",
       "      <td>0</td>\n",
       "      <td>0</td>\n",
       "      <td>0</td>\n",
       "      <td>1</td>\n",
       "      <td>0</td>\n",
       "      <td>...</td>\n",
       "      <td>1</td>\n",
       "      <td>0</td>\n",
       "      <td>0</td>\n",
       "      <td>1</td>\n",
       "      <td>0</td>\n",
       "      <td>0</td>\n",
       "      <td>1</td>\n",
       "      <td>1</td>\n",
       "      <td>0</td>\n",
       "      <td>0</td>\n",
       "    </tr>\n",
       "    <tr>\n",
       "      <th>15</th>\n",
       "      <td>0</td>\n",
       "      <td>0</td>\n",
       "      <td>1</td>\n",
       "      <td>0</td>\n",
       "      <td>0</td>\n",
       "      <td>1</td>\n",
       "      <td>0</td>\n",
       "      <td>0</td>\n",
       "      <td>1</td>\n",
       "      <td>0</td>\n",
       "      <td>...</td>\n",
       "      <td>1</td>\n",
       "      <td>0</td>\n",
       "      <td>0</td>\n",
       "      <td>1</td>\n",
       "      <td>0</td>\n",
       "      <td>0</td>\n",
       "      <td>1</td>\n",
       "      <td>0</td>\n",
       "      <td>0</td>\n",
       "      <td>1</td>\n",
       "    </tr>\n",
       "    <tr>\n",
       "      <th>16</th>\n",
       "      <td>0</td>\n",
       "      <td>1</td>\n",
       "      <td>0</td>\n",
       "      <td>0</td>\n",
       "      <td>1</td>\n",
       "      <td>0</td>\n",
       "      <td>0</td>\n",
       "      <td>1</td>\n",
       "      <td>0</td>\n",
       "      <td>0</td>\n",
       "      <td>...</td>\n",
       "      <td>0</td>\n",
       "      <td>0</td>\n",
       "      <td>1</td>\n",
       "      <td>0</td>\n",
       "      <td>0</td>\n",
       "      <td>1</td>\n",
       "      <td>0</td>\n",
       "      <td>0</td>\n",
       "      <td>1</td>\n",
       "      <td>0</td>\n",
       "    </tr>\n",
       "    <tr>\n",
       "      <th>17</th>\n",
       "      <td>0</td>\n",
       "      <td>0</td>\n",
       "      <td>1</td>\n",
       "      <td>1</td>\n",
       "      <td>0</td>\n",
       "      <td>0</td>\n",
       "      <td>0</td>\n",
       "      <td>0</td>\n",
       "      <td>1</td>\n",
       "      <td>1</td>\n",
       "      <td>...</td>\n",
       "      <td>0</td>\n",
       "      <td>0</td>\n",
       "      <td>0</td>\n",
       "      <td>1</td>\n",
       "      <td>0</td>\n",
       "      <td>0</td>\n",
       "      <td>1</td>\n",
       "      <td>0</td>\n",
       "      <td>0</td>\n",
       "      <td>1</td>\n",
       "    </tr>\n",
       "    <tr>\n",
       "      <th>18</th>\n",
       "      <td>1</td>\n",
       "      <td>0</td>\n",
       "      <td>0</td>\n",
       "      <td>1</td>\n",
       "      <td>0</td>\n",
       "      <td>0</td>\n",
       "      <td>0</td>\n",
       "      <td>0</td>\n",
       "      <td>1</td>\n",
       "      <td>0</td>\n",
       "      <td>...</td>\n",
       "      <td>1</td>\n",
       "      <td>1</td>\n",
       "      <td>0</td>\n",
       "      <td>0</td>\n",
       "      <td>1</td>\n",
       "      <td>0</td>\n",
       "      <td>0</td>\n",
       "      <td>1</td>\n",
       "      <td>0</td>\n",
       "      <td>0</td>\n",
       "    </tr>\n",
       "    <tr>\n",
       "      <th>19</th>\n",
       "      <td>1</td>\n",
       "      <td>0</td>\n",
       "      <td>0</td>\n",
       "      <td>0</td>\n",
       "      <td>0</td>\n",
       "      <td>1</td>\n",
       "      <td>0</td>\n",
       "      <td>0</td>\n",
       "      <td>1</td>\n",
       "      <td>1</td>\n",
       "      <td>...</td>\n",
       "      <td>0</td>\n",
       "      <td>1</td>\n",
       "      <td>0</td>\n",
       "      <td>0</td>\n",
       "      <td>0</td>\n",
       "      <td>0</td>\n",
       "      <td>1</td>\n",
       "      <td>1</td>\n",
       "      <td>0</td>\n",
       "      <td>0</td>\n",
       "    </tr>\n",
       "  </tbody>\n",
       "</table>\n",
       "<p>20 rows × 21 columns</p>\n",
       "</div>"
      ],
      "text/plain": [
       "    onlinesecurity_No  onlinesecurity_No internet service  onlinesecurity_Yes  \\\n",
       "0                   1                                   0                   0   \n",
       "1                   0                                   0                   1   \n",
       "2                   0                                   0                   1   \n",
       "3                   0                                   0                   1   \n",
       "4                   1                                   0                   0   \n",
       "5                   1                                   0                   0   \n",
       "6                   1                                   0                   0   \n",
       "7                   0                                   0                   1   \n",
       "8                   1                                   0                   0   \n",
       "9                   0                                   0                   1   \n",
       "10                  0                                   0                   1   \n",
       "11                  0                                   1                   0   \n",
       "12                  1                                   0                   0   \n",
       "13                  1                                   0                   0   \n",
       "14                  0                                   0                   1   \n",
       "15                  0                                   0                   1   \n",
       "16                  0                                   1                   0   \n",
       "17                  0                                   0                   1   \n",
       "18                  1                                   0                   0   \n",
       "19                  1                                   0                   0   \n",
       "\n",
       "    onlinebackup_No  onlinebackup_No internet service  onlinebackup_Yes  \\\n",
       "0                 0                                 0                 1   \n",
       "1                 1                                 0                 0   \n",
       "2                 0                                 0                 1   \n",
       "3                 1                                 0                 0   \n",
       "4                 1                                 0                 0   \n",
       "5                 1                                 0                 0   \n",
       "6                 0                                 0                 1   \n",
       "7                 1                                 0                 0   \n",
       "8                 1                                 0                 0   \n",
       "9                 0                                 0                 1   \n",
       "10                1                                 0                 0   \n",
       "11                0                                 1                 0   \n",
       "12                1                                 0                 0   \n",
       "13                0                                 0                 1   \n",
       "14                1                                 0                 0   \n",
       "15                0                                 0                 1   \n",
       "16                0                                 1                 0   \n",
       "17                1                                 0                 0   \n",
       "18                1                                 0                 0   \n",
       "19                0                                 0                 1   \n",
       "\n",
       "    deviceprotection_No  deviceprotection_No internet service  \\\n",
       "0                     1                                     0   \n",
       "1                     0                                     0   \n",
       "2                     1                                     0   \n",
       "3                     0                                     0   \n",
       "4                     1                                     0   \n",
       "5                     0                                     0   \n",
       "6                     1                                     0   \n",
       "7                     1                                     0   \n",
       "8                     0                                     0   \n",
       "9                     1                                     0   \n",
       "10                    1                                     0   \n",
       "11                    0                                     1   \n",
       "12                    0                                     0   \n",
       "13                    0                                     0   \n",
       "14                    0                                     0   \n",
       "15                    0                                     0   \n",
       "16                    0                                     1   \n",
       "17                    0                                     0   \n",
       "18                    0                                     0   \n",
       "19                    0                                     0   \n",
       "\n",
       "    deviceprotection_Yes  techsupport_No  ...  techsupport_Yes  \\\n",
       "0                      0               1  ...                0   \n",
       "1                      1               1  ...                0   \n",
       "2                      0               1  ...                0   \n",
       "3                      1               0  ...                1   \n",
       "4                      0               1  ...                0   \n",
       "5                      1               1  ...                0   \n",
       "6                      0               1  ...                0   \n",
       "7                      0               1  ...                0   \n",
       "8                      1               0  ...                1   \n",
       "9                      0               1  ...                0   \n",
       "10                     0               1  ...                0   \n",
       "11                     0               0  ...                0   \n",
       "12                     1               1  ...                0   \n",
       "13                     1               1  ...                0   \n",
       "14                     1               0  ...                1   \n",
       "15                     1               0  ...                1   \n",
       "16                     0               0  ...                0   \n",
       "17                     1               1  ...                0   \n",
       "18                     1               0  ...                1   \n",
       "19                     1               1  ...                0   \n",
       "\n",
       "    streamingtv_No  streamingtv_No internet service  streamingtv_Yes  \\\n",
       "0                1                                0                0   \n",
       "1                1                                0                0   \n",
       "2                1                                0                0   \n",
       "3                1                                0                0   \n",
       "4                1                                0                0   \n",
       "5                0                                0                1   \n",
       "6                0                                0                1   \n",
       "7                1                                0                0   \n",
       "8                0                                0                1   \n",
       "9                1                                0                0   \n",
       "10               1                                0                0   \n",
       "11               0                                1                0   \n",
       "12               0                                0                1   \n",
       "13               0                                0                1   \n",
       "14               0                                0                1   \n",
       "15               0                                0                1   \n",
       "16               0                                1                0   \n",
       "17               0                                0                1   \n",
       "18               1                                0                0   \n",
       "19               1                                0                0   \n",
       "\n",
       "    streamingmovies_No  streamingmovies_No internet service  \\\n",
       "0                    1                                    0   \n",
       "1                    1                                    0   \n",
       "2                    1                                    0   \n",
       "3                    1                                    0   \n",
       "4                    1                                    0   \n",
       "5                    0                                    0   \n",
       "6                    1                                    0   \n",
       "7                    1                                    0   \n",
       "8                    0                                    0   \n",
       "9                    1                                    0   \n",
       "10                   1                                    0   \n",
       "11                   0                                    1   \n",
       "12                   0                                    0   \n",
       "13                   0                                    0   \n",
       "14                   0                                    0   \n",
       "15                   0                                    0   \n",
       "16                   0                                    1   \n",
       "17                   0                                    0   \n",
       "18                   1                                    0   \n",
       "19                   0                                    0   \n",
       "\n",
       "    streamingmovies_Yes  contract_Month-to-month  contract_One year  \\\n",
       "0                     0                        1                  0   \n",
       "1                     0                        0                  1   \n",
       "2                     0                        1                  0   \n",
       "3                     0                        0                  1   \n",
       "4                     0                        1                  0   \n",
       "5                     1                        1                  0   \n",
       "6                     0                        1                  0   \n",
       "7                     0                        1                  0   \n",
       "8                     1                        1                  0   \n",
       "9                     0                        0                  1   \n",
       "10                    0                        1                  0   \n",
       "11                    0                        0                  0   \n",
       "12                    1                        0                  1   \n",
       "13                    1                        1                  0   \n",
       "14                    1                        1                  0   \n",
       "15                    1                        0                  0   \n",
       "16                    0                        0                  1   \n",
       "17                    1                        0                  0   \n",
       "18                    0                        1                  0   \n",
       "19                    1                        1                  0   \n",
       "\n",
       "    contract_Two year  \n",
       "0                   0  \n",
       "1                   0  \n",
       "2                   0  \n",
       "3                   0  \n",
       "4                   0  \n",
       "5                   0  \n",
       "6                   0  \n",
       "7                   0  \n",
       "8                   0  \n",
       "9                   0  \n",
       "10                  0  \n",
       "11                  1  \n",
       "12                  0  \n",
       "13                  0  \n",
       "14                  0  \n",
       "15                  1  \n",
       "16                  0  \n",
       "17                  1  \n",
       "18                  0  \n",
       "19                  0  \n",
       "\n",
       "[20 rows x 21 columns]"
      ]
     },
     "execution_count": 111,
     "metadata": {},
     "output_type": "execute_result"
    }
   ],
   "source": [
    "cat_dummies.head(20)"
   ]
  },
  {
   "cell_type": "code",
   "execution_count": 112,
   "id": "4b5a44ec",
   "metadata": {},
   "outputs": [
    {
     "data": {
      "text/plain": [
       "Male      3549\n",
       "Female    3483\n",
       "Name: gender, dtype: int64"
      ]
     },
     "execution_count": 112,
     "metadata": {},
     "output_type": "execute_result"
    }
   ],
   "source": [
    "churnData['gender'].value_counts()"
   ]
  },
  {
   "cell_type": "code",
   "execution_count": 113,
   "id": "8489d9d2",
   "metadata": {},
   "outputs": [],
   "source": [
    "# Converting male and female into 0 and 1\n",
    "churnData['gender'] = churnData['gender'].apply(lambda x: 1 if x == \"Male\" else 0)"
   ]
  },
  {
   "cell_type": "code",
   "execution_count": 114,
   "id": "38c4132b",
   "metadata": {},
   "outputs": [
    {
     "data": {
      "text/plain": [
       "1    3549\n",
       "0    3483\n",
       "Name: gender, dtype: int64"
      ]
     },
     "execution_count": 114,
     "metadata": {},
     "output_type": "execute_result"
    }
   ],
   "source": [
    "churnData['gender'].value_counts()"
   ]
  },
  {
   "cell_type": "code",
   "execution_count": 115,
   "id": "f5c5b156",
   "metadata": {},
   "outputs": [],
   "source": [
    "# removing original calumns from which were transferred into gat dummies\n",
    "churnData = churnData.drop(['onlinesecurity',\n",
    "       'onlinebackup', 'deviceprotection', 'techsupport', 'streamingtv',\n",
    "       'streamingmovies', 'contract'], axis =1)"
   ]
  },
  {
   "cell_type": "code",
   "execution_count": 116,
   "id": "2092ea4f",
   "metadata": {},
   "outputs": [
    {
     "data": {
      "text/html": [
       "<div>\n",
       "<style scoped>\n",
       "    .dataframe tbody tr th:only-of-type {\n",
       "        vertical-align: middle;\n",
       "    }\n",
       "\n",
       "    .dataframe tbody tr th {\n",
       "        vertical-align: top;\n",
       "    }\n",
       "\n",
       "    .dataframe thead th {\n",
       "        text-align: right;\n",
       "    }\n",
       "</style>\n",
       "<table border=\"1\" class=\"dataframe\">\n",
       "  <thead>\n",
       "    <tr style=\"text-align: right;\">\n",
       "      <th></th>\n",
       "      <th>gender</th>\n",
       "      <th>seniorcitizen</th>\n",
       "      <th>partner</th>\n",
       "      <th>dependents</th>\n",
       "      <th>tenure</th>\n",
       "      <th>phoneservice</th>\n",
       "      <th>monthlycharges</th>\n",
       "      <th>totalcharges</th>\n",
       "      <th>churn</th>\n",
       "    </tr>\n",
       "  </thead>\n",
       "  <tbody>\n",
       "    <tr>\n",
       "      <th>0</th>\n",
       "      <td>0</td>\n",
       "      <td>0</td>\n",
       "      <td>1</td>\n",
       "      <td>0</td>\n",
       "      <td>1</td>\n",
       "      <td>0</td>\n",
       "      <td>29.85</td>\n",
       "      <td>29.85</td>\n",
       "      <td>No</td>\n",
       "    </tr>\n",
       "    <tr>\n",
       "      <th>1</th>\n",
       "      <td>1</td>\n",
       "      <td>0</td>\n",
       "      <td>0</td>\n",
       "      <td>0</td>\n",
       "      <td>34</td>\n",
       "      <td>1</td>\n",
       "      <td>56.95</td>\n",
       "      <td>1889.50</td>\n",
       "      <td>No</td>\n",
       "    </tr>\n",
       "    <tr>\n",
       "      <th>2</th>\n",
       "      <td>1</td>\n",
       "      <td>0</td>\n",
       "      <td>0</td>\n",
       "      <td>0</td>\n",
       "      <td>2</td>\n",
       "      <td>1</td>\n",
       "      <td>53.85</td>\n",
       "      <td>108.15</td>\n",
       "      <td>Yes</td>\n",
       "    </tr>\n",
       "    <tr>\n",
       "      <th>3</th>\n",
       "      <td>1</td>\n",
       "      <td>0</td>\n",
       "      <td>0</td>\n",
       "      <td>0</td>\n",
       "      <td>45</td>\n",
       "      <td>0</td>\n",
       "      <td>42.30</td>\n",
       "      <td>1840.75</td>\n",
       "      <td>No</td>\n",
       "    </tr>\n",
       "    <tr>\n",
       "      <th>4</th>\n",
       "      <td>0</td>\n",
       "      <td>0</td>\n",
       "      <td>0</td>\n",
       "      <td>0</td>\n",
       "      <td>2</td>\n",
       "      <td>1</td>\n",
       "      <td>70.70</td>\n",
       "      <td>151.65</td>\n",
       "      <td>Yes</td>\n",
       "    </tr>\n",
       "  </tbody>\n",
       "</table>\n",
       "</div>"
      ],
      "text/plain": [
       "   gender  seniorcitizen  partner  dependents  tenure  phoneservice  \\\n",
       "0       0              0        1           0       1             0   \n",
       "1       1              0        0           0      34             1   \n",
       "2       1              0        0           0       2             1   \n",
       "3       1              0        0           0      45             0   \n",
       "4       0              0        0           0       2             1   \n",
       "\n",
       "   monthlycharges  totalcharges churn  \n",
       "0           29.85         29.85    No  \n",
       "1           56.95       1889.50    No  \n",
       "2           53.85        108.15   Yes  \n",
       "3           42.30       1840.75    No  \n",
       "4           70.70        151.65   Yes  "
      ]
     },
     "execution_count": 116,
     "metadata": {},
     "output_type": "execute_result"
    }
   ],
   "source": [
    "churnData.head()"
   ]
  },
  {
   "cell_type": "code",
   "execution_count": 117,
   "id": "e76742bf",
   "metadata": {},
   "outputs": [],
   "source": [
    "# concatinating all data into one\n",
    "churnData_final = pd.concat([churnData, cat_dummies], axis=1)"
   ]
  },
  {
   "cell_type": "code",
   "execution_count": 118,
   "id": "08da925c",
   "metadata": {},
   "outputs": [
    {
     "data": {
      "text/html": [
       "<div>\n",
       "<style scoped>\n",
       "    .dataframe tbody tr th:only-of-type {\n",
       "        vertical-align: middle;\n",
       "    }\n",
       "\n",
       "    .dataframe tbody tr th {\n",
       "        vertical-align: top;\n",
       "    }\n",
       "\n",
       "    .dataframe thead th {\n",
       "        text-align: right;\n",
       "    }\n",
       "</style>\n",
       "<table border=\"1\" class=\"dataframe\">\n",
       "  <thead>\n",
       "    <tr style=\"text-align: right;\">\n",
       "      <th></th>\n",
       "      <th>gender</th>\n",
       "      <th>seniorcitizen</th>\n",
       "      <th>partner</th>\n",
       "      <th>dependents</th>\n",
       "      <th>tenure</th>\n",
       "      <th>phoneservice</th>\n",
       "      <th>monthlycharges</th>\n",
       "      <th>totalcharges</th>\n",
       "      <th>churn</th>\n",
       "      <th>onlinesecurity_No</th>\n",
       "      <th>...</th>\n",
       "      <th>techsupport_Yes</th>\n",
       "      <th>streamingtv_No</th>\n",
       "      <th>streamingtv_No internet service</th>\n",
       "      <th>streamingtv_Yes</th>\n",
       "      <th>streamingmovies_No</th>\n",
       "      <th>streamingmovies_No internet service</th>\n",
       "      <th>streamingmovies_Yes</th>\n",
       "      <th>contract_Month-to-month</th>\n",
       "      <th>contract_One year</th>\n",
       "      <th>contract_Two year</th>\n",
       "    </tr>\n",
       "  </thead>\n",
       "  <tbody>\n",
       "    <tr>\n",
       "      <th>0</th>\n",
       "      <td>0</td>\n",
       "      <td>0</td>\n",
       "      <td>1</td>\n",
       "      <td>0</td>\n",
       "      <td>1</td>\n",
       "      <td>0</td>\n",
       "      <td>29.85</td>\n",
       "      <td>29.85</td>\n",
       "      <td>No</td>\n",
       "      <td>1</td>\n",
       "      <td>...</td>\n",
       "      <td>0</td>\n",
       "      <td>1</td>\n",
       "      <td>0</td>\n",
       "      <td>0</td>\n",
       "      <td>1</td>\n",
       "      <td>0</td>\n",
       "      <td>0</td>\n",
       "      <td>1</td>\n",
       "      <td>0</td>\n",
       "      <td>0</td>\n",
       "    </tr>\n",
       "    <tr>\n",
       "      <th>1</th>\n",
       "      <td>1</td>\n",
       "      <td>0</td>\n",
       "      <td>0</td>\n",
       "      <td>0</td>\n",
       "      <td>34</td>\n",
       "      <td>1</td>\n",
       "      <td>56.95</td>\n",
       "      <td>1889.50</td>\n",
       "      <td>No</td>\n",
       "      <td>0</td>\n",
       "      <td>...</td>\n",
       "      <td>0</td>\n",
       "      <td>1</td>\n",
       "      <td>0</td>\n",
       "      <td>0</td>\n",
       "      <td>1</td>\n",
       "      <td>0</td>\n",
       "      <td>0</td>\n",
       "      <td>0</td>\n",
       "      <td>1</td>\n",
       "      <td>0</td>\n",
       "    </tr>\n",
       "    <tr>\n",
       "      <th>2</th>\n",
       "      <td>1</td>\n",
       "      <td>0</td>\n",
       "      <td>0</td>\n",
       "      <td>0</td>\n",
       "      <td>2</td>\n",
       "      <td>1</td>\n",
       "      <td>53.85</td>\n",
       "      <td>108.15</td>\n",
       "      <td>Yes</td>\n",
       "      <td>0</td>\n",
       "      <td>...</td>\n",
       "      <td>0</td>\n",
       "      <td>1</td>\n",
       "      <td>0</td>\n",
       "      <td>0</td>\n",
       "      <td>1</td>\n",
       "      <td>0</td>\n",
       "      <td>0</td>\n",
       "      <td>1</td>\n",
       "      <td>0</td>\n",
       "      <td>0</td>\n",
       "    </tr>\n",
       "    <tr>\n",
       "      <th>3</th>\n",
       "      <td>1</td>\n",
       "      <td>0</td>\n",
       "      <td>0</td>\n",
       "      <td>0</td>\n",
       "      <td>45</td>\n",
       "      <td>0</td>\n",
       "      <td>42.30</td>\n",
       "      <td>1840.75</td>\n",
       "      <td>No</td>\n",
       "      <td>0</td>\n",
       "      <td>...</td>\n",
       "      <td>1</td>\n",
       "      <td>1</td>\n",
       "      <td>0</td>\n",
       "      <td>0</td>\n",
       "      <td>1</td>\n",
       "      <td>0</td>\n",
       "      <td>0</td>\n",
       "      <td>0</td>\n",
       "      <td>1</td>\n",
       "      <td>0</td>\n",
       "    </tr>\n",
       "    <tr>\n",
       "      <th>4</th>\n",
       "      <td>0</td>\n",
       "      <td>0</td>\n",
       "      <td>0</td>\n",
       "      <td>0</td>\n",
       "      <td>2</td>\n",
       "      <td>1</td>\n",
       "      <td>70.70</td>\n",
       "      <td>151.65</td>\n",
       "      <td>Yes</td>\n",
       "      <td>1</td>\n",
       "      <td>...</td>\n",
       "      <td>0</td>\n",
       "      <td>1</td>\n",
       "      <td>0</td>\n",
       "      <td>0</td>\n",
       "      <td>1</td>\n",
       "      <td>0</td>\n",
       "      <td>0</td>\n",
       "      <td>1</td>\n",
       "      <td>0</td>\n",
       "      <td>0</td>\n",
       "    </tr>\n",
       "  </tbody>\n",
       "</table>\n",
       "<p>5 rows × 30 columns</p>\n",
       "</div>"
      ],
      "text/plain": [
       "   gender  seniorcitizen  partner  dependents  tenure  phoneservice  \\\n",
       "0       0              0        1           0       1             0   \n",
       "1       1              0        0           0      34             1   \n",
       "2       1              0        0           0       2             1   \n",
       "3       1              0        0           0      45             0   \n",
       "4       0              0        0           0       2             1   \n",
       "\n",
       "   monthlycharges  totalcharges churn  onlinesecurity_No  ...  \\\n",
       "0           29.85         29.85    No                  1  ...   \n",
       "1           56.95       1889.50    No                  0  ...   \n",
       "2           53.85        108.15   Yes                  0  ...   \n",
       "3           42.30       1840.75    No                  0  ...   \n",
       "4           70.70        151.65   Yes                  1  ...   \n",
       "\n",
       "   techsupport_Yes  streamingtv_No  streamingtv_No internet service  \\\n",
       "0                0               1                                0   \n",
       "1                0               1                                0   \n",
       "2                0               1                                0   \n",
       "3                1               1                                0   \n",
       "4                0               1                                0   \n",
       "\n",
       "   streamingtv_Yes  streamingmovies_No  streamingmovies_No internet service  \\\n",
       "0                0                   1                                    0   \n",
       "1                0                   1                                    0   \n",
       "2                0                   1                                    0   \n",
       "3                0                   1                                    0   \n",
       "4                0                   1                                    0   \n",
       "\n",
       "   streamingmovies_Yes  contract_Month-to-month  contract_One year  \\\n",
       "0                    0                        1                  0   \n",
       "1                    0                        0                  1   \n",
       "2                    0                        1                  0   \n",
       "3                    0                        0                  1   \n",
       "4                    0                        1                  0   \n",
       "\n",
       "   contract_Two year  \n",
       "0                  0  \n",
       "1                  0  \n",
       "2                  0  \n",
       "3                  0  \n",
       "4                  0  \n",
       "\n",
       "[5 rows x 30 columns]"
      ]
     },
     "execution_count": 118,
     "metadata": {},
     "output_type": "execute_result"
    }
   ],
   "source": [
    "churnData_final.head()"
   ]
  },
  {
   "cell_type": "code",
   "execution_count": 119,
   "id": "d5c293bf",
   "metadata": {},
   "outputs": [],
   "source": [
    "# X-y split\n",
    "\n",
    "X = churnData_final.drop(\"churn\", axis=1)\n",
    "y = churnData_final[[\"churn\"]]"
   ]
  },
  {
   "cell_type": "code",
   "execution_count": 120,
   "id": "55fad2a5",
   "metadata": {},
   "outputs": [
    {
     "data": {
      "text/plain": [
       "churn\n",
       "No       5163\n",
       "Yes      1869\n",
       "dtype: int64"
      ]
     },
     "execution_count": 120,
     "metadata": {},
     "output_type": "execute_result"
    }
   ],
   "source": [
    "# Checking target columns values\n",
    "y.value_counts()"
   ]
  },
  {
   "cell_type": "markdown",
   "id": "01a77216",
   "metadata": {},
   "source": [
    "### 1. Apply SMOTE for upsampling the data"
   ]
  },
  {
   "cell_type": "code",
   "execution_count": 121,
   "id": "6ca0e7b0",
   "metadata": {},
   "outputs": [
    {
     "data": {
      "text/plain": [
       "churn\n",
       "No       5163\n",
       "Yes      5163\n",
       "dtype: int64"
      ]
     },
     "execution_count": 121,
     "metadata": {},
     "output_type": "execute_result"
    }
   ],
   "source": [
    "smote = SMOTE()\n",
    "X_sm, y_sm = smote.fit_resample(X, y)\n",
    "y_sm.value_counts()"
   ]
  },
  {
   "cell_type": "markdown",
   "id": "498daec8",
   "metadata": {},
   "source": [
    " - Use logistic regression to fit the model and compute the accuracy of the model."
   ]
  },
  {
   "cell_type": "code",
   "execution_count": 122,
   "id": "ff0c3d1a",
   "metadata": {},
   "outputs": [],
   "source": [
    "# Train - Test split\n",
    "X_train, X_test, y_train, y_test = train_test_split(X_sm, y_sm, test_size=0.3, random_state=21)"
   ]
  },
  {
   "cell_type": "code",
   "execution_count": 123,
   "id": "284836ff",
   "metadata": {},
   "outputs": [
    {
     "data": {
      "text/plain": [
       "0.8105229180116204"
      ]
     },
     "execution_count": 123,
     "metadata": {},
     "output_type": "execute_result"
    }
   ],
   "source": [
    "LR = LogisticRegression(random_state=100, multi_class='ovr').fit(X_train, y_train)\n",
    "s_predictions_lr = LR.predict(X_test)\n",
    "\n",
    "LR.score(X_test, y_test)"
   ]
  },
  {
   "cell_type": "code",
   "execution_count": 135,
   "id": "bc3672d0",
   "metadata": {},
   "outputs": [
    {
     "name": "stdout",
     "output_type": "stream",
     "text": [
      "Corss validation score is :  [0.80982019 0.83540802 0.79806362 0.80761246 0.83044983]\n",
      "Mean score is :  0.8162708246588849\n"
     ]
    }
   ],
   "source": [
    "# Using cross-validation for logistic model\n",
    "# K = 5\n",
    "cross_val_scores_lr = cross_val_score(LR, X_train, y_train, cv=5, scoring ='accuracy')\n",
    "print(\"Corss validation score is : \",cross_val_scores_lr)\n",
    "print(\"Mean score is : \",cross_val_scores_lr.mean())"
   ]
  },
  {
   "cell_type": "markdown",
   "id": "7f7eb2ba",
   "metadata": {},
   "source": [
    " - Use decision tree classifier to fit the model and compute the accuracy of the model."
   ]
  },
  {
   "cell_type": "code",
   "execution_count": 125,
   "id": "da90a329",
   "metadata": {},
   "outputs": [
    {
     "data": {
      "text/plain": [
       "0.802775984506133"
      ]
     },
     "execution_count": 125,
     "metadata": {},
     "output_type": "execute_result"
    }
   ],
   "source": [
    "DT = DecisionTreeClassifier()\n",
    "DT.fit(X_train, y_train)\n",
    "s_predictions_DT = DT.predict_proba(X_test)\n",
    "\n",
    "DT.score(X_test, y_test)"
   ]
  },
  {
   "cell_type": "code",
   "execution_count": 134,
   "id": "3cda36e0",
   "metadata": {},
   "outputs": [
    {
     "name": "stdout",
     "output_type": "stream",
     "text": [
      "Corss validation score is :  [0.79806362 0.80497925 0.78492393 0.783391   0.7916955 ]\n",
      "Mean score is :  0.792610662033913\n"
     ]
    }
   ],
   "source": [
    "# Using cross-validation for Decision Tree model\n",
    "# K = 5\n",
    "cross_val_scores_DT = cross_val_score(DT, X_train, y_train, cv=5, scoring ='accuracy')\n",
    "print(\"Corss validation score is : \",cross_val_scores_DT)\n",
    "print(\"Mean score is : \",cross_val_scores_DT.mean())"
   ]
  },
  {
   "cell_type": "markdown",
   "id": "9e6db1ff",
   "metadata": {},
   "source": [
    " - Compare the accuracies of the two models.\n",
    " \n",
    "After comparing the two models accuracy, **Logistic Regression** model gives the more accurate predictions than the Decision Tree."
   ]
  },
  {
   "cell_type": "markdown",
   "id": "ad7b6170",
   "metadata": {},
   "source": [
    "### 2.Apply TomekLinks for downsampling"
   ]
  },
  {
   "cell_type": "code",
   "execution_count": 127,
   "id": "8dace450",
   "metadata": {},
   "outputs": [
    {
     "data": {
      "text/plain": [
       "churn\n",
       "No       4595\n",
       "Yes      1869\n",
       "dtype: int64"
      ]
     },
     "execution_count": 127,
     "metadata": {},
     "output_type": "execute_result"
    }
   ],
   "source": [
    "# Applying imblearn.under_sampling.TomekLinks to the dataset.\n",
    "from imblearn.under_sampling import TomekLinks\n",
    "tl = TomekLinks(sampling_strategy='majority')\n",
    "X_tl, y_tl = tl.fit_resample(X, y)\n",
    "y_tl.value_counts()"
   ]
  },
  {
   "cell_type": "code",
   "execution_count": 128,
   "id": "198a3f54",
   "metadata": {},
   "outputs": [
    {
     "data": {
      "text/plain": [
       "churn\n",
       "No       4428\n",
       "Yes      1869\n",
       "dtype: int64"
      ]
     },
     "execution_count": 128,
     "metadata": {},
     "output_type": "execute_result"
    }
   ],
   "source": [
    "X_tl2, y_tl2 = tl.fit_resample(X_tl, y_tl)\n",
    "y_tl2.value_counts()"
   ]
  },
  {
   "cell_type": "markdown",
   "id": "d61e7cf6",
   "metadata": {},
   "source": [
    " - Use logistic regression to fit the model and compute the accuracy of the model."
   ]
  },
  {
   "cell_type": "code",
   "execution_count": 132,
   "id": "4b3a8205",
   "metadata": {},
   "outputs": [],
   "source": [
    "lr_t = LogisticRegression(random_state=100, multi_class='ovr').fit(X_train, y_train)\n",
    "t_predictions_lr = lr_t.predict(X_test)"
   ]
  },
  {
   "cell_type": "code",
   "execution_count": 133,
   "id": "82a9fc72",
   "metadata": {},
   "outputs": [
    {
     "data": {
      "text/plain": [
       "0.8105229180116204"
      ]
     },
     "execution_count": 133,
     "metadata": {},
     "output_type": "execute_result"
    }
   ],
   "source": [
    "lr_t.score(X_test, y_test)"
   ]
  },
  {
   "cell_type": "code",
   "execution_count": 136,
   "id": "26fe4ea3",
   "metadata": {},
   "outputs": [
    {
     "name": "stdout",
     "output_type": "stream",
     "text": [
      "Corss validation score is :  [0.80982019 0.83540802 0.79806362 0.80761246 0.83044983]\n",
      "Mean score is :  0.8162708246588849\n"
     ]
    }
   ],
   "source": [
    "# Using cross-validation for logistic model\n",
    "# K = 5\n",
    "cross_val_scores_lr_t = cross_val_score(lr_t, X_train, y_train, cv=5, scoring ='accuracy')\n",
    "print(\"Corss validation score is : \",cross_val_scores_lr_t)\n",
    "print(\"Mean score is : \",cross_val_scores_lr_t.mean())"
   ]
  },
  {
   "cell_type": "markdown",
   "id": "27bc0026",
   "metadata": {},
   "source": [
    " - Use decision tree classifier to fit the model and compute the accuracy of the model."
   ]
  },
  {
   "cell_type": "code",
   "execution_count": 137,
   "id": "aadb77ed",
   "metadata": {},
   "outputs": [
    {
     "data": {
      "text/plain": [
       "0.8105229180116204"
      ]
     },
     "execution_count": 137,
     "metadata": {},
     "output_type": "execute_result"
    }
   ],
   "source": [
    "DT = DecisionTreeClassifier()\n",
    "DT.fit(X_train, y_train)\n",
    "s_predictions_DT = DT.predict_proba(X_test)\n",
    "\n",
    "classification.score(X_test, y_test)"
   ]
  },
  {
   "cell_type": "code",
   "execution_count": 138,
   "id": "d9ee2d89",
   "metadata": {},
   "outputs": [
    {
     "name": "stdout",
     "output_type": "stream",
     "text": [
      "Corss validation score is :  [0.7966805  0.80705394 0.78838174 0.78477509 0.78546713]\n",
      "Mean score is :  0.7924716794210973\n"
     ]
    }
   ],
   "source": [
    "# Using cross-validation for Decision Tree model\n",
    "# K = 5\n",
    "cross_val_scores_DT_t = cross_val_score(DT, X_train, y_train, cv=5, scoring ='accuracy')\n",
    "print(\"Corss validation score is : \",cross_val_scores_DT_t)\n",
    "print(\"Mean score is : \",cross_val_scores_DT_t.mean())"
   ]
  },
  {
   "cell_type": "markdown",
   "id": "be3c4d34",
   "metadata": {},
   "source": [
    " - Compare the accuracies of the two models.\n",
    " \n",
    "Decision tree model gives the same accuracy as logistic reression model without the cross validation"
   ]
  }
 ],
 "metadata": {
  "kernelspec": {
   "display_name": "Python 3 (ipykernel)",
   "language": "python",
   "name": "python3"
  },
  "language_info": {
   "codemirror_mode": {
    "name": "ipython",
    "version": 3
   },
   "file_extension": ".py",
   "mimetype": "text/x-python",
   "name": "python",
   "nbconvert_exporter": "python",
   "pygments_lexer": "ipython3",
   "version": "3.10.9"
  }
 },
 "nbformat": 4,
 "nbformat_minor": 5
}
